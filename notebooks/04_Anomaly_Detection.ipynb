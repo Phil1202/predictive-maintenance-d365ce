{
 "cells": [
  {
   "cell_type": "markdown",
   "id": "c17a1533",
   "metadata": {},
   "source": [
    "# Anomaly Detection für Predictive Maintenance (Autoencoder, Isolation Forest, One-Class SVM, PCA)\n",
    "\n",
    "In diesem Notebook werden verschiedene Anomaly-Detection-Methoden zur Identifikation potenzieller Maschinenausfälle verglichen.  \n",
    "Ziel ist es, Modelle zu entwickeln, die ausschließlich auf fehlerfreien Daten trainiert werden und im Betrieb durch Abweichungen Anomalien erkennen.\n",
    "\n",
    "### Eingesetzte Modelle:\n",
    "- Autoencoder (Keras)\n",
    "- Isolation Forest (Sklearn)\n",
    "- One-Class SVM (Sklearn)\n",
    "- PCA (Rekonstruktionsfehler)\n",
    "\n",
    "Trainiert wird auf `X_train_scaled` mit `machine_failure == 0`.  \n",
    "Evaluiert wird auf `X_test_scaled` anhand der bekannten Labels.\n"
   ]
  },
  {
   "cell_type": "markdown",
   "id": "4478c259",
   "metadata": {},
   "source": [
    "## 2. Daten laden\n",
    "\n",
    "Für die Anomaly Detection werden ausschließlich skalierte Eingabedaten verwendet, da viele der eingesetzten Modelle (z. B. Autoencoder, One-Class SVM, PCA) sensitiv auf unterschiedliche Skalen reagieren.\n",
    "\n",
    "- `X_train_scaled`: Enthält alle Trainingsdaten (inkl. Fehler) in standardisierter Form.\n",
    "- `X_train_ae`: Subset von `X_train_scaled`, enthält **nur fehlerfreie Beobachtungen** – wird für das unüberwachte Training verwendet.\n",
    "- `X_test_scaled`: Testdaten, ebenfalls standardisiert.\n",
    "- `y_test`: Zielvariable zur **nachträglichen Evaluation** der Modelle (ROC-AUC, PR-Kurve etc.).\n",
    "\n",
    "Hinweis: Es wird **nicht** auf `X_reduced` zurückgegriffen, da Multikollinearität in der Anomaly Detection kein Problem darstellt.\n"
   ]
  },
  {
   "cell_type": "code",
   "execution_count": 1,
   "id": "054acba1",
   "metadata": {},
   "outputs": [],
   "source": [
    "import pandas as pd\n",
    "import numpy as np\n",
    "import joblib\n",
    "\n",
    "# Skalierte Daten\n",
    "X_test_scaled = joblib.load(\"../data/X_test_scaled.pkl\")\n",
    "X_train_scaled = joblib.load(\"../data/X_train_scaled.pkl\")\n",
    "\n",
    "# Nur fehlerfreie Trainingsbeobachtungen (aus vorherigem Feature Engineering)\n",
    "X_train_ae = joblib.load(\"../data/X_train_autoencoder.pkl\")\n",
    "\n",
    "# Zielvariable für Testdaten\n",
    "y_test = pd.read_pickle(\"../data/y_test.pkl\").values\n"
   ]
  },
  {
   "cell_type": "markdown",
   "id": "e00dc972",
   "metadata": {},
   "source": [
    "## 3. Training eines Autoencoders\n",
    "\n",
    "Ein Autoencoder wird als unüberwachtes Modell zur Anomalieerkennung eingesetzt. Er lernt ausschließlich auf **fehlerfreien Maschinenzuständen** (`X_train_ae`) das normale Verhalten der Sensor- und Prozessdaten.\n",
    "\n",
    "### Architektur:\n",
    "- Eingabeschicht: Anzahl der Features (z. B. 13)\n",
    "- Verdeckte Schichten (symmetrisch): `[16 → 8 → 16]`\n",
    "- Ausgabeschicht: Rekonstruktion der Eingangsdaten\n",
    "- Aktivierungen: `ReLU` für Hidden-Layer, `linear` für Ausgabe\n",
    "\n",
    "### Training:\n",
    "- Optimierer: `Adam`\n",
    "- Verlustfunktion: mittlerer quadratischer Fehler (MSE)\n",
    "- Frühzeitiges Stoppen (`EarlyStopping`) bei ausbleibender Verbesserung der Validierungsdaten\n",
    "\n",
    "Nach dem Training wird das Modell auf die **Testdaten** angewendet.  \n",
    "Der mittlere **Rekonstruktionsfehler** (MSE) pro Instanz dient als **Anomaliescore**:  \n",
    "Je höher der Fehler, desto wahrscheinlicher liegt eine Abweichung vom Normalverhalten vor.\n"
   ]
  },
  {
   "cell_type": "code",
   "execution_count": null,
   "id": "4ab56548",
   "metadata": {},
   "outputs": [
    {
     "name": "stderr",
     "output_type": "stream",
     "text": [
      "c:\\Users\\PSibma\\pdm365-env\\Lib\\site-packages\\keras\\src\\layers\\core\\dense.py:93: UserWarning: Do not pass an `input_shape`/`input_dim` argument to a layer. When using Sequential models, prefer using an `Input(shape)` object as the first layer in the model instead.\n",
      "  super().__init__(activity_regularizer=activity_regularizer, **kwargs)\n"
     ]
    },
    {
     "name": "stdout",
     "output_type": "stream",
     "text": [
      "\u001b[1m63/63\u001b[0m \u001b[32m━━━━━━━━━━━━━━━━━━━━\u001b[0m\u001b[37m\u001b[0m \u001b[1m0s\u001b[0m 2ms/step  \n"
     ]
    }
   ],
   "source": [
    "from tensorflow.keras.models import Sequential\n",
    "from tensorflow.keras.layers import Dense\n",
    "from tensorflow.keras.callbacks import EarlyStopping\n",
    "\n",
    "input_dim = X_train_ae.shape[1]\n",
    "\n",
    "autoencoder = Sequential([\n",
    "    Dense(16, activation='relu', input_shape=(input_dim,)),\n",
    "    Dense(8, activation='relu'),\n",
    "    Dense(16, activation='relu'),\n",
    "    Dense(input_dim, activation='linear')\n",
    "])\n",
    "\n",
    "autoencoder.compile(optimizer='adam', loss='mse')\n",
    "\n",
    "early_stop = EarlyStopping(monitor='val_loss', patience=5, restore_best_weights=True)\n",
    "\n",
    "history = autoencoder.fit(\n",
    "    X_train_ae, X_train_ae,\n",
    "    epochs=100,\n",
    "    batch_size=32,\n",
    "    validation_split=0.2,\n",
    "    callbacks=[early_stop],\n",
    "    verbose=0\n",
    ")\n",
    "\n",
    "# Rekonstruktionsfehler als Anomaliescore\n",
    "reconstructions = autoencoder.predict(X_test_scaled)\n",
    "mse_ae = np.mean(np.square(X_test_scaled - reconstructions), axis=1)\n"
   ]
  },
  {
   "cell_type": "markdown",
   "id": "b7e04f7f",
   "metadata": {},
   "source": [
    "## 4. Isolation Forest\n",
    "\n",
    "Als zweites Modell zur Anomalieerkennung wird der **Isolation Forest** eingesetzt.  \n",
    "Im Gegensatz zum Autoencoder basiert dieser Ansatz auf Entscheidungsbäumen, die Datenpunkte gezielt \"isolieren\", anstatt sie zu rekonstruieren.\n",
    "\n",
    "### Eigenschaften:\n",
    "- Unüberwachtes Verfahren (kein Label erforderlich)\n",
    "- Besonders effizient bei **hochdimensionalen Daten**\n",
    "- Parameter `contamination=0.034` spiegelt den bekannten Anteil fehlerhafter Instanzen im Datensatz wider\n",
    "\n",
    "Das Modell wird – analog zum Autoencoder – **nur auf fehlerfreien Trainingsdaten** trainiert, um das normale Maschinenverhalten zu modellieren.  \n",
    "Die Anomaliescores werden über die Funktion `decision_function()` berechnet und anschließend invertiert, da höhere Werte auffälligere Instanzen repräsentieren.\n"
   ]
  },
  {
   "cell_type": "code",
   "execution_count": 4,
   "id": "b89cf255",
   "metadata": {},
   "outputs": [],
   "source": [
    "from sklearn.ensemble import IsolationForest\n",
    "\n",
    "# Isolation Forest-Instanz erstellen\n",
    "iso_forest = IsolationForest(\n",
    "    n_estimators=100,\n",
    "    contamination=0.034,   # Anteil erwarteter Anomalien (aus EDA)\n",
    "    random_state=42\n",
    ")\n",
    "\n",
    "# Training auf fehlerfreien Daten (wie beim Autoencoder)\n",
    "iso_forest.fit(X_train_ae)\n",
    "\n",
    "# Anomaliescores auf Testdaten (negativer Outlier-Faktor → umgedreht)\n",
    "scores_iso = -iso_forest.decision_function(X_test_scaled)\n"
   ]
  },
  {
   "cell_type": "markdown",
   "id": "d44be823",
   "metadata": {},
   "source": [
    "## 5. One-Class SVM\n",
    "\n",
    "Die **One-Class Support Vector Machine (SVM)** ist ein weiteres unüberwachtes Verfahren zur Erkennung von Anomalien.  \n",
    "Sie modelliert eine **Abgrenzung der normalen Datenpunkte** im Merkmalsraum und stuft alles außerhalb als potenzielle Anomalie ein.\n",
    "\n",
    "### Eigenschaften:\n",
    "- **Nichtlinearer Kernel** (`rbf`) erlaubt flexible Entscheidungsgrenzen\n",
    "- Parameter `nu=0.034` steuert die Toleranz gegenüber Ausreißern und basiert auf der bekannten Fehlerquote im Datensatz\n",
    "- Berechnung erfolgt ausschließlich auf **fehlerfreien Trainingsdaten**\n",
    "- Die Methode `decision_function()` liefert Scores, die zur einfacheren Interpretation **negiert** werden\n",
    "\n",
    "Damit steht nun eine dritte Methode zur Verfügung, die mit Autoencoder und Isolation Forest verglichen werden kann.\n"
   ]
  },
  {
   "cell_type": "code",
   "execution_count": 5,
   "id": "160cb48a",
   "metadata": {},
   "outputs": [],
   "source": [
    "from sklearn.svm import OneClassSVM\n",
    "\n",
    "# One-Class SVM initialisieren\n",
    "oc_svm = OneClassSVM(kernel='rbf', gamma='auto', nu=0.034)\n",
    "\n",
    "# Training auf fehlerfreien Beobachtungen\n",
    "oc_svm.fit(X_train_ae)\n",
    "\n",
    "# Score (Anomaliewahrscheinlichkeit): je niedriger, desto auffälliger\n",
    "scores_ocsvm = -oc_svm.decision_function(X_test_scaled)\n"
   ]
  },
  {
   "cell_type": "markdown",
   "id": "264a6908",
   "metadata": {},
   "source": [
    "## 6. Evaluation und Modellvergleich\n",
    "\n",
    "Die drei Anomaly-Detection-Modelle werden anhand der Testdaten (`X_test_scaled`) evaluiert.  \n",
    "Obwohl es sich um unüberwachtes Lernen handelt, liegt das Label `y_test` vor – dadurch ist eine quantitative Bewertung möglich.\n",
    "\n",
    "### Bewertete Metriken:\n",
    "- **ROC-AUC**: Wie gut trennt der Score zwischen Fehler/kein Fehler?\n",
    "- **Precision-Recall AUC**: Aussagekräftiger bei starker Klassenungleichheit (wie hier)\n",
    "\n",
    "Die Diagramme zeigen, dass alle Modelle solide trennen, mit dem Autoencoder meist leicht vorn.  \n",
    "Je nach Anwendung können aber auch robustere, weniger datenhungrige Modelle wie Isolation Forest sinnvoll sein.\n"
   ]
  },
  {
   "cell_type": "code",
   "execution_count": 8,
   "id": "07255061",
   "metadata": {},
   "outputs": [
    {
     "name": "stdout",
     "output_type": "stream",
     "text": [
      "⚠️ Schwellenwert gesetzt bei ca. den obersten 3.40 % der Anomaliescores\n",
      "\n",
      "🔍 Autoencoder\n",
      "              precision    recall  f1-score   support\n",
      "\n",
      "           0      0.998     0.998     0.998      1932\n",
      "           1      0.941     0.941     0.941        68\n",
      "\n",
      "    accuracy                          0.996      2000\n",
      "   macro avg      0.970     0.970     0.970      2000\n",
      "weighted avg      0.996     0.996     0.996      2000\n",
      "\n",
      "ROC AUC: 0.9874786871270247\n",
      "Confusion Matrix:\n",
      " [[1928    4]\n",
      " [   4   64]]\n",
      "------------------------------------------------------------\n",
      "🔍 Isolation Forest\n",
      "              precision    recall  f1-score   support\n",
      "\n",
      "           0      0.979     0.979     0.979      1932\n",
      "           1      0.412     0.412     0.412        68\n",
      "\n",
      "    accuracy                          0.960      2000\n",
      "   macro avg      0.696     0.696     0.696      2000\n",
      "weighted avg      0.960     0.960     0.960      2000\n",
      "\n",
      "ROC AUC: 0.9206932773109244\n",
      "Confusion Matrix:\n",
      " [[1892   40]\n",
      " [  40   28]]\n",
      "------------------------------------------------------------\n",
      "🔍 One-Class SVM\n",
      "              precision    recall  f1-score   support\n",
      "\n",
      "           0      0.998     0.998     0.998      1932\n",
      "           1      0.956     0.956     0.956        68\n",
      "\n",
      "    accuracy                          0.997      2000\n",
      "   macro avg      0.977     0.977     0.977      2000\n",
      "weighted avg      0.997     0.997     0.997      2000\n",
      "\n",
      "ROC AUC: 0.9897241505297771\n",
      "Confusion Matrix:\n",
      " [[1929    3]\n",
      " [   3   65]]\n",
      "------------------------------------------------------------\n"
     ]
    }
   ],
   "source": [
    "from sklearn.metrics import classification_report, confusion_matrix, roc_auc_score\n",
    "import numpy as np\n",
    "\n",
    "# Dictionary mit Scores\n",
    "anomaly_scores = {\n",
    "    \"Autoencoder\": mse_ae,\n",
    "    \"Isolation Forest\": scores_iso,\n",
    "    \"One-Class SVM\": scores_ocsvm\n",
    "}\n",
    "\n",
    "# Fehlerquote im Testset (für Schwellenwert-Definition)\n",
    "failure_rate = np.mean(y_test) * 100\n",
    "threshold_percentile = 100 - failure_rate  # z.B. 96.6 %\n",
    "\n",
    "print(f\"⚠️ Schwellenwert gesetzt bei ca. den obersten {failure_rate:.2f} % der Anomaliescores\\n\")\n",
    "\n",
    "# Evaluation für jedes Modell\n",
    "for name, scores in anomaly_scores.items():\n",
    "    threshold = np.percentile(scores, threshold_percentile)\n",
    "    y_pred = (scores > threshold).astype(int)\n",
    "    \n",
    "    print(f\"🔍 {name}\")\n",
    "    print(classification_report(y_test, y_pred, digits=3))\n",
    "    print(\"ROC AUC:\", roc_auc_score(y_test, scores))\n",
    "    print(\"Confusion Matrix:\\n\", confusion_matrix(y_test, y_pred))\n",
    "    print(\"-\" * 60)\n"
   ]
  },
  {
   "cell_type": "code",
   "execution_count": 7,
   "id": "9ad35a11",
   "metadata": {},
   "outputs": [
    {
     "data": {
      "image/png": "[encoded data removed]",
      "text/plain": [
       "<Figure size 1200x500 with 2 Axes>"
      ]
     },
     "metadata": {},
     "output_type": "display_data"
    }
   ],
   "source": [
    "from sklearn.metrics import roc_auc_score, precision_recall_curve, auc, roc_curve\n",
    "import matplotlib.pyplot as plt\n",
    "\n",
    "# Alle Scores + Namen in Dictionary\n",
    "anomaly_scores = {\n",
    "    \"Autoencoder\": mse_ae,\n",
    "    \"Isolation Forest\": scores_iso,\n",
    "    \"One-Class SVM\": scores_ocsvm\n",
    "}\n",
    "\n",
    "plt.figure(figsize=(12, 5))\n",
    "\n",
    "# ROC\n",
    "plt.subplot(1, 2, 1)\n",
    "for name, scores in anomaly_scores.items():\n",
    "    roc_auc = roc_auc_score(y_test, scores)\n",
    "    fpr, tpr, _ = precision_recall_curve(y_test, scores)[:3]\n",
    "    plt.plot(*roc_curve(y_test, scores)[:2], label=f\"{name} (AUC = {roc_auc:.3f})\")\n",
    "plt.plot([0, 1], [0, 1], \"k--\", alpha=0.5)\n",
    "plt.title(\"ROC Curve\")\n",
    "plt.xlabel(\"False Positive Rate\")\n",
    "plt.ylabel(\"True Positive Rate\")\n",
    "plt.legend()\n",
    "\n",
    "# PR\n",
    "plt.subplot(1, 2, 2)\n",
    "for name, scores in anomaly_scores.items():\n",
    "    precision, recall, _ = precision_recall_curve(y_test, scores)\n",
    "    pr_auc = auc(recall, precision)\n",
    "    plt.plot(recall, precision, label=f\"{name} (AUC = {pr_auc:.3f})\")\n",
    "plt.title(\"Precision-Recall Curve\")\n",
    "plt.xlabel(\"Recall\")\n",
    "plt.ylabel(\"Precision\")\n",
    "plt.legend()\n",
    "\n",
    "plt.tight_layout()\n",
    "plt.show()\n"
   ]
  },
  {
   "cell_type": "markdown",
   "id": "02a5b5d0",
   "metadata": {},
   "source": [
    "## 6. Ergebnisse & Schlussfolgerungen – Anomaly Detection\n",
    "\n",
    "### Ziel & Vorgehen\n",
    "\n",
    "Ziel war die Identifikation von fehlerhaften Maschinenzuständen anhand normaler Verhaltensmuster mittels Anomaly Detection. Als Grundlage dienten skalierte Sensordaten des AI4I-2020-Datensatzes, wobei ausschließlich fehlerfreie Instanzen (`Machine failure = 0`) zum Training verwendet wurden.\n",
    "\n",
    "Verglichen wurden drei verschiedene Modellansätze:\n",
    "\n",
    "- **Autoencoder (Neural Network)** – Modelliert normales Verhalten über Rekonstruktion\n",
    "- **Isolation Forest** – Baum-basierter Outlier-Ansatz\n",
    "- **One-Class SVM** – Grenzflächenbasierte Trennung der Normalzone\n",
    "\n",
    "### Bewertung & Metriken\n",
    "\n",
    "Für alle Modelle wurden Schwellenwerte basierend auf dem Anteil an Fehlerklassen im Testset gewählt (~3,4 %). Die Modelle wurden auf Basis von **ROC AUC**, **PR AUC** sowie **klassischen Klassifikationsmetriken** (Accuracy, Precision, Recall, F1) evaluiert:\n",
    "\n",
    "| Modell              | ROC AUC | PR AUC | Precision | Recall | F1-Score |\n",
    "|---------------------|---------|--------|-----------|--------|----------|\n",
    "| Autoencoder         | 0.987   | 0.940  | 0.90+     | ~0.66  | ~0.76    |\n",
    "| Isolation Forest    | 0.921   | 0.326  | ~0.44     | ~0.54  | ~0.49    |\n",
    "| One-Class SVM       | 0.990   | 0.962  | 1.00      | 1.00   | 1.00     |\n",
    "\n",
    "> 📌 Die One-Class SVM zeigt im Testset ein überdurchschnittlich starkes Verhalten – jedoch sollte hier geprüft werden, ob es sich um **Overfitting oder ein zu hartes Decision Boundary** handelt (z. B. Recall = 1.0).\n",
    "\n",
    "### Fazit & Modellwahl\n",
    "\n",
    "- Der **Autoencoder** liefert sehr gute Ergebnisse mit hoher Trennschärfe und robuster PR-Kurve. Aufgrund des klaren Trainingskonzepts auf Normalverhalten ist er besonders gut geeignet.\n",
    "- **One-Class SVM** erreicht formal die besten Scores, jedoch ist Vorsicht geboten hinsichtlich Generalisierbarkeit.\n",
    "- Der **Isolation Forest** zeigt im Vergleich deutliche Schwächen – insbesondere bei Precision/Recall.\n",
    "\n",
    "➡ **Empfehlung**: Weiterarbeit mit **Autoencoder** und ggf. One-Class SVM (unter Validierung).\n",
    "\n",
    "\n"
   ]
  },
  {
   "cell_type": "markdown",
   "id": "165e509d",
   "metadata": {},
   "source": [
    "### 5. Speicherung der Anomaly Detection Modelle\n",
    "\n",
    "Nach erfolgreichem Training werden die Modelle zur späteren Inferenz gespeichert. Dabei wird ein separater Unterordner `models/anomaly_detection/` verwendet, um die Anomaly-Modelle von den Klassifikationsmodellen logisch zu trennen.\n",
    "\n",
    "Die folgenden Artefakte werden persistiert:\n",
    "\n",
    "- `autoencoder_model.h5`  \n",
    "  → Das trainierte Autoencoder-Modell (Keras, unüberwachter Lernansatz)\n",
    "\n",
    "- `isolation_forest_model.pkl`  \n",
    "  → Das trainierte Isolation-Forest-Modell (Scikit-Learn)\n",
    "\n",
    "- `one_class_svm_model.pkl`  \n",
    "  → Das trainierte One-Class-SVM-Modell (Scikit-Learn)\n",
    "\n",
    "- `thresholds_anomaly.json`  \n",
    "  → JSON-Datei mit gespeicherten Schwellenwerten für die Entscheidung über „Anomalie“ (basierend auf dem 96,6-Perzentil)\n",
    "\n",
    "> ℹ️ **Hinweis:** Der `StandardScaler` wird **nicht erneut gespeichert**, da er bereits zentral unter  \n",
    "> `models/scaler/standard_scaler.pkl` abgelegt wurde und sowohl für Klassifikations- als auch Anomaly Detection Modelle genutzt wird.\n",
    "\n",
    "Die gespeicherten Modelle sind nun bereit für den Einsatz in einer Inferenzpipeline (`predict.py`) oder die Integration in Microsoft Dynamics 365 CE.\n"
   ]
  },
  {
   "cell_type": "code",
   "execution_count": 10,
   "id": "b5262a75",
   "metadata": {},
   "outputs": [
    {
     "name": "stderr",
     "output_type": "stream",
     "text": [
      "WARNING:absl:You are saving your model as an HDF5 file via `model.save()` or `keras.saving.save_model(model)`. This file format is considered legacy. We recommend using instead the native Keras format, e.g. `model.save('my_model.keras')` or `keras.saving.save_model(model, 'my_model.keras')`. \n"
     ]
    },
    {
     "name": "stdout",
     "output_type": "stream",
     "text": [
      "✅ Anomaly Detection Modelle & Schwellenwerte gespeichert in: ../models/anomaly_detection/\n",
      "ℹ️  StandardScaler liegt bereits global in: ../models/standard_scaler.pkl\n"
     ]
    }
   ],
   "source": [
    "import os\n",
    "import joblib\n",
    "import json\n",
    "import numpy as np\n",
    "\n",
    "MODEL_DIR = \"../models/anomaly_detection/\"\n",
    "os.makedirs(MODEL_DIR, exist_ok=True)\n",
    "\n",
    "# 1. Autoencoder (Keras .h5-Datei)\n",
    "autoencoder.save(os.path.join(MODEL_DIR, \"autoencoder_model.h5\"))\n",
    "\n",
    "# 2. Isolation Forest\n",
    "joblib.dump(iso_forest, os.path.join(MODEL_DIR, \"isolation_forest_model.pkl\"))\n",
    "\n",
    "# 3. One-Class SVM\n",
    "joblib.dump(oc_svm, os.path.join(MODEL_DIR, \"one_class_svm_model.pkl\"))\n",
    "\n",
    "# 4. Thresholds als JSON (Schwellenwerte basierend auf 96,6-Perzentil)\n",
    "thresholds = {\n",
    "    \"autoencoder\": float(np.percentile(mse_ae, 96.6)),\n",
    "    \"isolation_forest\": float(np.percentile(scores_iso, 96.6)),\n",
    "    \"one_class_svm\": float(np.percentile(scores_ocsvm, 96.6))\n",
    "}\n",
    "with open(os.path.join(MODEL_DIR, \"thresholds_anomaly.json\"), \"w\") as f:\n",
    "    json.dump(thresholds, f, indent=2)\n",
    "\n",
    "print(\"✅ Anomaly Detection Modelle & Schwellenwerte gespeichert in:\", MODEL_DIR)\n",
    "print(\"ℹ️  StandardScaler liegt bereits global in: ../models/standard_scaler.pkl\")\n"
   ]
  }
 ],
 "metadata": {
  "kernelspec": {
   "display_name": "Python (pdm365-env)",
   "language": "python",
   "name": "pdm365-env"
  },
  "language_info": {
   "codemirror_mode": {
    "name": "ipython",
    "version": 3
   },
   "file_extension": ".py",
   "mimetype": "text/x-python",
   "name": "python",
   "nbconvert_exporter": "python",
   "pygments_lexer": "ipython3",
   "version": "3.11.9"
  }
 },
 "nbformat": 4,
 "nbformat_minor": 5
}
